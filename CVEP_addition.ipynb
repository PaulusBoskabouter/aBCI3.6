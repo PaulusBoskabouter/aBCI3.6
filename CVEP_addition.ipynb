{
 "cells": [
  {
   "cell_type": "markdown",
   "id": "e17d79e7",
   "metadata": {},
   "source": [
    "## CVEP pipeline\n",
    "\n",
    "---\n",
    "By: Jorge Sanmartin Martinez (s1150007), Paul Verhoeven (s1086755), Radovan Vodila (s1143934), and Thomas Kooiman (s1018394)"
   ]
  },
  {
   "cell_type": "markdown",
   "id": "fcbefce2",
   "metadata": {},
   "source": [
    "## 0. handle imports"
   ]
  },
  {
   "cell_type": "code",
   "execution_count": 2,
   "id": "39c10610",
   "metadata": {},
   "outputs": [],
   "source": [
    "from pathlib import Path\n",
    "\n",
    "import numpy as np\n",
    "import matplotlib.pyplot as plt\n",
    "\n"
   ]
  },
  {
   "cell_type": "markdown",
   "id": "e2453483",
   "metadata": {},
   "source": [
    "## 1. Load the dataset"
   ]
  },
  {
   "cell_type": "code",
   "execution_count": null,
   "id": "bc0c7143",
   "metadata": {},
   "outputs": [
    {
     "name": "stdout",
     "output_type": "stream",
     "text": [
      "CVEP\\2025_abci_cvep\\sub-p001_ses-s001_run-001_task-training.xdf\n",
      "CVEP\\2025_abci_cvep\\sub-p001_ses-s001_run-002_task-training.xdf\n",
      "CVEP\\2025_abci_cvep\\sub-p001_ses-s001_run-003_task-training.xdf\n"
     ]
    }
   ],
   "source": [
    "dataset_folder = Path(\"CVEP\") / \"2025_abci_cvep\"\n",
    "\n",
    "codes = dataset_folder / \"mgold_61_6521.npz\"\n",
    "dataset = dataset_folder.glob(\"*.xdf\")\n",
    "\n",
    "\n",
    "for file in dataset:\n",
    "    print(file)\n",
    "\n",
    "\n",
    "# etc etc"
   ]
  },
  {
   "cell_type": "code",
   "execution_count": null,
   "id": "160b2c2a",
   "metadata": {},
   "outputs": [],
   "source": []
  }
 ],
 "metadata": {
  "kernelspec": {
   "display_name": "uni",
   "language": "python",
   "name": "python3"
  },
  "language_info": {
   "codemirror_mode": {
    "name": "ipython",
    "version": 3
   },
   "file_extension": ".py",
   "mimetype": "text/x-python",
   "name": "python",
   "nbconvert_exporter": "python",
   "pygments_lexer": "ipython3",
   "version": "3.13.2"
  }
 },
 "nbformat": 4,
 "nbformat_minor": 5
}
